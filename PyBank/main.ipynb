{
 "metadata": {
  "language_info": {
   "codemirror_mode": {
    "name": "ipython",
    "version": 3
   },
   "file_extension": ".py",
   "mimetype": "text/x-python",
   "name": "python",
   "nbconvert_exporter": "python",
   "pygments_lexer": "ipython3",
   "version": "3.8.3-final"
  },
  "orig_nbformat": 2,
  "kernelspec": {
   "name": "Python 3.8.3 64-bit ('base': conda)",
   "display_name": "Python 3.8.3 64-bit ('base': conda)",
   "metadata": {
    "interpreter": {
     "hash": "c0ea1d887f3d131603bb919fe7255409bf3fb06b807c1da184a545508d45d95d"
    }
   }
  }
 },
 "nbformat": 4,
 "nbformat_minor": 2,
 "cells": [
  {
   "cell_type": "code",
   "execution_count": 2,
   "metadata": {
    "tags": []
   },
   "outputs": [
    {
     "output_type": "stream",
     "name": "stdout",
     "text": "Financial Analysis\n----------------------------\nTotal Months:  86\nTotal:  $38382578\nAverage Change:  $-2315.12\nGreatest Increase in Profits:  Feb-2012 ($1926159)\nGreatest Decrease in Losses:  Sep-2013 ($-2196167)\n"
    }
   ],
   "source": [
    "# Import csv\n",
    "\n",
    "import csv\n",
    "\n",
    "# Define  variables\n",
    "months = []\n",
    "profit_loss_changes = []\n",
    "\n",
    "count_months = 0\n",
    "net_profit_loss = 0\n",
    "previous_month_profit_loss = 0\n",
    "current_month_profit_loss = 0\n",
    "profit_loss_change = 0\n",
    "\n",
    "\n",
    "# Open and read csv\n",
    "with open('budget.csv', newline=\"\") as csvfile:\n",
    "\n",
    "    csv_reader = csv.reader(csvfile, delimiter=\",\")\n",
    "\n",
    "    # Read the header row first\n",
    "    csv_header = next(csvfile)\n",
    "\n",
    "    #print(f\"Header: {csv_header}\")\n",
    "    # This prints -->> Header: Date, Profit/Losses\n",
    "             \n",
    "    # Read through each row of data after the header\n",
    "    for row in csv_reader:\n",
    "\n",
    "        # Count of months\n",
    "        count_months += 1\n",
    "\n",
    "        # Net total amount of \"Profit/Losses\" over the entire period\n",
    "        current_month_profit_loss = int(row[1])\n",
    "        net_profit_loss += current_month_profit_loss\n",
    "\n",
    "        if (count_months == 1):\n",
    "            # Make the value of previous month to be equal to current month\n",
    "            previous_month_profit_loss = current_month_profit_loss\n",
    "            continue\n",
    "\n",
    "        else:\n",
    "\n",
    "            # Compute change in profit loss \n",
    "            profit_loss_change = current_month_profit_loss - previous_month_profit_loss\n",
    "\n",
    "            # Append each month to the months[]\n",
    "            months.append(row[0])\n",
    "\n",
    "            # Append each profit_loss_change to the profit_loss_changes[]\n",
    "            profit_loss_changes.append(profit_loss_change)\n",
    "\n",
    "            # Make the current_month_loss to be previous_month_profit_loss for the next loop\n",
    "            previous_month_profit_loss = current_month_profit_loss\n",
    "\n",
    "    #sum and average of the changes in \"Profit/Losses\" over the entire period\n",
    "    sum_profit_loss = sum(profit_loss_changes)\n",
    "    average_profit_loss = round(sum_profit_loss/(count_months - 1), 2)\n",
    "\n",
    "    # highest and lowest changes in \"Profit/Losses\" over the entire period\n",
    "    highest_change = max(profit_loss_changes)\n",
    "    lowest_change = min(profit_loss_changes)\n",
    "\n",
    "    # Locate the index value of highest and lowest changes in \"Profit/Losses\" over the entire period\n",
    "    highest_month_index = profit_loss_changes.index(highest_change)\n",
    "    lowest_month_index = profit_loss_changes.index(lowest_change)\n",
    "\n",
    "    # Assign best and worst month\n",
    "    best_month = months[highest_month_index]\n",
    "    worst_month = months[lowest_month_index]\n",
    "\n",
    "# -->>  Print the analysis to the terminal\n",
    "print(\"Financial Analysis\")\n",
    "print(\"----------------------------\")\n",
    "print(f\"Total Months:  {count_months}\")\n",
    "print(f\"Total:  ${net_profit_loss}\")\n",
    "print(f\"Average Change:  ${average_profit_loss}\")\n",
    "print(f\"Greatest Increase in Profits:  {best_month} (${highest_change})\")\n",
    "print(f\"Greatest Decrease in Losses:  {worst_month} (${lowest_change})\")"
   ]
  },
  {
   "cell_type": "code",
   "execution_count": null,
   "metadata": {},
   "outputs": [],
   "source": []
  }
 ]
}